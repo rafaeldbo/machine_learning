{
 "cells": [
  {
   "cell_type": "code",
   "execution_count": 11,
   "metadata": {},
   "outputs": [],
   "source": [
    "import numpy as np"
   ]
  },
  {
   "cell_type": "markdown",
   "metadata": {},
   "source": [
    "$y = \\sin(\\exp(x^3))$\n",
    "\n",
    "$\\frac{dy}{dx} = \\cos(\\exp(x^3)) \\exp(x^3) 3 x^2$"
   ]
  },
  {
   "cell_type": "code",
   "execution_count": 27,
   "metadata": {},
   "outputs": [],
   "source": [
    "class Variable:\n",
    "\n",
    "    def __init__(self, name, initial_value):\n",
    "        self.name = name\n",
    "        self.value = initial_value\n",
    "        self.grad = 0.0\n",
    "\n",
    "    def evaluate(self):\n",
    "        return self.value\n",
    "\n",
    "    def zero_grad(self):\n",
    "        self.grad = 0.0\n",
    "\n",
    "    def backward(self, upstream_grad):\n",
    "        self.grad += upstream_grad\n",
    "\n",
    "    def __str__(self):\n",
    "        return f'{self.name}:{self.value}'\n",
    "\n",
    "\n",
    "class Cube:\n",
    "\n",
    "    def __init__(self, x):\n",
    "        self.x = x\n",
    "\n",
    "    def evaluate(self):\n",
    "        return self.x.evaluate()**3\n",
    "\n",
    "    def backward(self, upstream_grad):\n",
    "        local_grad = 3 * self.x.evaluate()**2\n",
    "        downstream_grad = upstream_grad * local_grad\n",
    "        self.x.backward(downstream_grad)\n",
    "\n",
    "    def __str__(self):\n",
    "        return f'({self.x})^3'\n",
    "\n",
    "\n",
    "class Exp:\n",
    "\n",
    "    def __init__(self, x):\n",
    "        self.x = x\n",
    "\n",
    "    def evaluate(self):\n",
    "        return np.exp(self.x.evaluate())\n",
    "\n",
    "    def backward(self, upstream_grad):\n",
    "        local_grad = np.exp(self.x.evaluate())\n",
    "        downstream_grad = upstream_grad * local_grad\n",
    "        self.x.backward(downstream_grad)\n",
    "\n",
    "    def __str__(self):\n",
    "        return f'exp({self.x})'\n",
    "\n",
    "\n",
    "class Sin:\n",
    "\n",
    "    def __init__(self, x):\n",
    "        self.x = x\n",
    "\n",
    "    def evaluate(self):\n",
    "        return np.sin(self.x.evaluate())\n",
    "\n",
    "    def backward(self, upstream_grad):\n",
    "        local_grad = np.cos(self.x.evaluate())\n",
    "        downstream_grad = upstream_grad * local_grad\n",
    "        self.x.backward(downstream_grad)\n",
    "\n",
    "    def __str__(self):\n",
    "        return f'sin({self.x})'"
   ]
  },
  {
   "cell_type": "code",
   "execution_count": 30,
   "metadata": {},
   "outputs": [
    {
     "name": "stdout",
     "output_type": "stream",
     "text": [
      "0.40176297151886475\n",
      "-32757.521776103014\n"
     ]
    }
   ],
   "source": [
    "x = Variable('x', 2)\n",
    "c = Cube(x)\n",
    "e = Exp(c)\n",
    "y = Sin(e)\n",
    "\n",
    "print(y.evaluate())\n",
    "\n",
    "x.zero_grad()\n",
    "y.backward(1.0)\n",
    "\n",
    "print(x.grad)\n"
   ]
  },
  {
   "cell_type": "code",
   "execution_count": 31,
   "metadata": {},
   "outputs": [
    {
     "ename": "ModuleNotFoundError",
     "evalue": "No module named 'tensorflow'",
     "output_type": "error",
     "traceback": [
      "\u001b[1;31m---------------------------------------------------------------------------\u001b[0m",
      "\u001b[1;31mModuleNotFoundError\u001b[0m                       Traceback (most recent call last)",
      "Cell \u001b[1;32mIn[31], line 1\u001b[0m\n\u001b[1;32m----> 1\u001b[0m \u001b[38;5;28;01mfrom\u001b[39;00m \u001b[38;5;21;01mtensorflow\u001b[39;00m\u001b[38;5;21;01m.\u001b[39;00m\u001b[38;5;21;01mkeras\u001b[39;00m\u001b[38;5;21;01m.\u001b[39;00m\u001b[38;5;21;01mdatasets\u001b[39;00m \u001b[38;5;28;01mimport\u001b[39;00m mnist\n\u001b[0;32m      2\u001b[0m \u001b[38;5;28;01mfrom\u001b[39;00m \u001b[38;5;21;01mtensorflow\u001b[39;00m\u001b[38;5;21;01m.\u001b[39;00m\u001b[38;5;21;01mkeras\u001b[39;00m\u001b[38;5;21;01m.\u001b[39;00m\u001b[38;5;21;01mmodels\u001b[39;00m \u001b[38;5;28;01mimport\u001b[39;00m Sequential\n\u001b[0;32m      3\u001b[0m \u001b[38;5;28;01mfrom\u001b[39;00m \u001b[38;5;21;01mtensorflow\u001b[39;00m\u001b[38;5;21;01m.\u001b[39;00m\u001b[38;5;21;01mkeras\u001b[39;00m\u001b[38;5;21;01m.\u001b[39;00m\u001b[38;5;21;01mlayers\u001b[39;00m \u001b[38;5;28;01mimport\u001b[39;00m Dense, Flatten\n",
      "\u001b[1;31mModuleNotFoundError\u001b[0m: No module named 'tensorflow'"
     ]
    }
   ],
   "source": [
    "from tensorflow.keras.datasets import mnist\n",
    "from tensorflow.keras.models import Sequential\n",
    "from tensorflow.keras.layers import Dense, Flatten\n",
    "from tensorflow.keras.utils import to_categorical\n",
    "\n",
    "# Load the MNIST dataset\n",
    "(x_train, y_train), (x_test, y_test) = mnist.load_data()\n",
    "\n",
    "# Preprocess the data\n",
    "x_train = x_train.reshape((x_train.shape[0], 28 * 28)).astype('float32') / 255\n",
    "x_test = x_test.reshape((x_test.shape[0], 28 * 28)).astype('float32') / 255\n",
    "\n",
    "# One-hot encode the labels\n",
    "y_train = to_categorical(y_train, 10)\n",
    "y_test = to_categorical(y_test, 10)\n",
    "\n",
    "# Create the MLP model\n",
    "model = Sequential()\n",
    "model.add(Flatten(input_shape=(28 * 28,)))\n",
    "model.add(Dense(512, activation='relu'))\n",
    "model.add(Dense(256, activation='relu'))\n",
    "model.add(Dense(128, activation='relu'))\n",
    "model.add(Dense(10, activation='softmax'))\n",
    "\n",
    "# Compile the model\n",
    "model.compile(optimizer='adam', loss='categorical_crossentropy', metrics=['accuracy'])\n",
    "\n",
    "# Train the model\n",
    "model.fit(x_train, y_train, epochs=10, batch_size=128, validation_split=0.2)\n",
    "\n",
    "# Evaluate the model\n",
    "loss, accuracy = model.evaluate(x_test, y_test)\n",
    "print(f'Test accuracy: {accuracy}')"
   ]
  }
 ],
 "metadata": {
  "kernelspec": {
   "display_name": "ml",
   "language": "python",
   "name": "python3"
  },
  "language_info": {
   "codemirror_mode": {
    "name": "ipython",
    "version": 3
   },
   "file_extension": ".py",
   "mimetype": "text/x-python",
   "name": "python",
   "nbconvert_exporter": "python",
   "pygments_lexer": "ipython3",
   "version": "3.12.4"
  }
 },
 "nbformat": 4,
 "nbformat_minor": 2
}
