{
 "cells": [
  {
   "cell_type": "code",
   "execution_count": 5,
   "metadata": {},
   "outputs": [],
   "source": [
    "from sklearn.datasets import load_diabetes\n",
    "from sklearn.ensemble import RandomForestRegressor\n",
    "from sklearn.dummy import DummyRegressor\n",
    "from sklearn.linear_model import Ridge\n",
    "from sklearn.model_selection import GridSearchCV\n",
    "from sklearn.pipeline import Pipeline\n",
    "from sklearn.preprocessing import StandardScaler"
   ]
  },
  {
   "cell_type": "code",
   "execution_count": 6,
   "metadata": {},
   "outputs": [],
   "source": [
    "# Load the diabetes dataset\n",
    "diabetes = load_diabetes()\n",
    "X, y = diabetes.data, diabetes.target"
   ]
  },
  {
   "cell_type": "code",
   "execution_count": 7,
   "metadata": {},
   "outputs": [],
   "source": [
    "# Train test split.\n",
    "from sklearn.model_selection import train_test_split\n",
    "\n",
    "X_train, X_test, y_train, y_test = train_test_split(\n",
    "    X,\n",
    "    y,\n",
    "    test_size=0.2,\n",
    "    random_state=42,\n",
    ")"
   ]
  },
  {
   "cell_type": "markdown",
   "metadata": {},
   "source": [
    "## Nivel 2"
   ]
  },
  {
   "cell_type": "code",
   "execution_count": 10,
   "metadata": {},
   "outputs": [
    {
     "name": "stdout",
     "output_type": "stream",
     "text": [
      "Best parameters found:  {'model': Ridge(), 'model__alpha': 10.0}\n",
      "Best score:  -3127.99719853687\n"
     ]
    }
   ],
   "source": [
    "# Define the models and parameters for GridSearchCV\n",
    "pipeline = Pipeline([\n",
    "    ('scaler', StandardScaler()),\n",
    "    ('model', DummyRegressor()),\n",
    "])\n",
    "\n",
    "param_grid = [\n",
    "    {\n",
    "        'model': [DummyRegressor()],\n",
    "    },\n",
    "    {\n",
    "        'model': [RandomForestRegressor()],\n",
    "        'model__n_estimators': [50, 100, 200],\n",
    "        'model__max_depth': [None, 10, 20, 30]\n",
    "    },\n",
    "    {\n",
    "        'model': [Ridge()],\n",
    "        'model__alpha': [0.1, 1.0, 10.0, 100.0]\n",
    "    },\n",
    "]\n",
    "\n",
    "# Perform GridSearchCV\n",
    "grid_search = GridSearchCV(\n",
    "    pipeline,\n",
    "    param_grid,\n",
    "    cv=5,\n",
    "    scoring='neg_mean_squared_error',\n",
    "    n_jobs=-1,\n",
    ")\n",
    "grid_search.fit(X_train, y_train)\n",
    "\n",
    "# Output the best parameters and the best score\n",
    "print(\"Best parameters found: \", grid_search.best_params_)\n",
    "print(\"Best score: \", grid_search.best_score_)"
   ]
  },
  {
   "cell_type": "code",
   "execution_count": 20,
   "metadata": {},
   "outputs": [],
   "source": [
    "import numpy as np"
   ]
  },
  {
   "cell_type": "code",
   "execution_count": 21,
   "metadata": {},
   "outputs": [
    {
     "name": "stdout",
     "output_type": "stream",
     "text": [
      "-3127.99719853687 35.464230375076426 {'model': Ridge(), 'model__alpha': 10.0}\n",
      "-3135.5262085947866 39.63988117689308 {'model': Ridge(), 'model__alpha': 1.0}\n",
      "-3141.6672925900157 42.072395408706726 {'model': Ridge(), 'model__alpha': 0.1}\n",
      "-3170.084337729107 36.149675163441344 {'model': Ridge(), 'model__alpha': 100.0}\n",
      "-3376.1632581763506 65.32103755693501 {'model': RandomForestRegressor(), 'model__max_depth': 10, 'model__n_estimators': 200}\n",
      "-3408.6992795466367 80.35876557136498 {'model': RandomForestRegressor(), 'model__max_depth': 10, 'model__n_estimators': 50}\n",
      "-3415.6307570139165 65.62014799801041 {'model': RandomForestRegressor(), 'model__max_depth': 20, 'model__n_estimators': 200}\n",
      "-3419.0997299154938 66.05839901626493 {'model': RandomForestRegressor(), 'model__max_depth': 30, 'model__n_estimators': 50}\n",
      "-3424.162784920524 68.59814344996597 {'model': RandomForestRegressor(), 'model__max_depth': 30, 'model__n_estimators': 200}\n",
      "-3443.8079333521127 67.69920038635452 {'model': RandomForestRegressor(), 'model__max_depth': None, 'model__n_estimators': 100}\n",
      "-3459.4289013840694 68.03588329862806 {'model': RandomForestRegressor(), 'model__max_depth': 10, 'model__n_estimators': 100}\n",
      "-3461.605569964789 69.95957758405858 {'model': RandomForestRegressor(), 'model__max_depth': None, 'model__n_estimators': 200}\n",
      "-3464.6428061167003 67.2232465170183 {'model': RandomForestRegressor(), 'model__max_depth': None, 'model__n_estimators': 50}\n",
      "-3467.318300664253 66.59311288897396 {'model': RandomForestRegressor(), 'model__max_depth': 20, 'model__n_estimators': 100}\n",
      "-3510.386339444668 74.50326130766085 {'model': RandomForestRegressor(), 'model__max_depth': 30, 'model__n_estimators': 100}\n",
      "-3546.765617319919 55.820729163441115 {'model': RandomForestRegressor(), 'model__max_depth': 20, 'model__n_estimators': 50}\n",
      "-6132.616302288982 140.86673952957355 {'model': DummyRegressor()}\n"
     ]
    }
   ],
   "source": [
    "N = len(y_train) // 5\n",
    "\n",
    "for params, m, s in sorted(\n",
    "        zip(\n",
    "            grid_search.cv_results_['params'],\n",
    "            grid_search.cv_results_['mean_test_score'],\n",
    "            grid_search.cv_results_['std_test_score'],\n",
    "        ), key=lambda x: x[1], reverse=True):\n",
    "    print(m, s/np.sqrt(N), params)"
   ]
  },
  {
   "cell_type": "code",
   "execution_count": null,
   "metadata": {},
   "outputs": [],
   "source": []
  }
 ],
 "metadata": {
  "kernelspec": {
   "display_name": "ml",
   "language": "python",
   "name": "python3"
  },
  "language_info": {
   "codemirror_mode": {
    "name": "ipython",
    "version": 3
   },
   "file_extension": ".py",
   "mimetype": "text/x-python",
   "name": "python",
   "nbconvert_exporter": "python",
   "pygments_lexer": "ipython3",
   "version": "3.12.4"
  }
 },
 "nbformat": 4,
 "nbformat_minor": 2
}
